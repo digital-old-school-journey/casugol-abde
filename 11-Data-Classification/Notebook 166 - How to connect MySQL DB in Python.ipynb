{
 "cells": [
  {
   "cell_type": "markdown",
   "metadata": {},
   "source": [
    "# How to connect MySQL DB in Python"
   ]
  },
  {
   "cell_type": "code",
   "execution_count": 3,
   "metadata": {},
   "outputs": [
    {
     "name": "stdout",
     "output_type": "stream",
     "text": [
      "\n",
      "************************How to connect MySQL DB in Python*************************\n",
      "MySQL Connection is Successful ... ... ...\n"
     ]
    }
   ],
   "source": [
    "## How to connect MySQL DB in Python\n",
    "def Snippet_166(): \n",
    "    print()\n",
    "    print(format('How to connect MySQL DB in Python','*^82'))    \n",
    "    import warnings\n",
    "    warnings.filterwarnings(\"ignore\")\n",
    "    # load libraries\n",
    "    import sqlalchemy as sa\n",
    "    import pandas as pd\n",
    "    \n",
    "    dataset = pd.read_csv(\"iris.data.csv\")\n",
    "    engine_str = (\n",
    "      'mysql+pymysql://{user}:{password}@{server}/{database}'.format(\n",
    "       user      =  'root',\n",
    "       password  =  'root888',\n",
    "       server    =  'localhost',\n",
    "       database  =  'datasciencerecipes'))\n",
    "    engine = sa.create_engine(engine_str)\n",
    "    conn = engine.connect()\n",
    "\n",
    "    # check whether connection is Successful or not\n",
    "    if (conn): \n",
    "        print(\"MySQL Connection is Successful ... ... ...\")    \n",
    "    else:  \n",
    "        print(\"MySQL Connection is not Successful ... ... ...\")\n",
    "\n",
    "    dataset.to_sql(name='irisdata', con=engine, \n",
    "                   schema='datasciencerecipes', \n",
    "                   if_exists = 'replace', chunksize = 1000, \n",
    "                   index=False)\n",
    "    conn.close()\n",
    "Snippet_166()"
   ]
  }
 ],
 "metadata": {
  "kernelspec": {
   "display_name": "Python 3",
   "language": "python",
   "name": "python3"
  },
  "language_info": {
   "codemirror_mode": {
    "name": "ipython",
    "version": 3
   },
   "file_extension": ".py",
   "mimetype": "text/x-python",
   "name": "python",
   "nbconvert_exporter": "python",
   "pygments_lexer": "ipython3",
   "version": "3.6.8"
  }
 },
 "nbformat": 4,
 "nbformat_minor": 2
}
