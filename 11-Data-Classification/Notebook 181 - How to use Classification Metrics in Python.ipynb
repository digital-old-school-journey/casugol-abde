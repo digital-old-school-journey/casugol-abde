{
 "cells": [
  {
   "cell_type": "markdown",
   "metadata": {},
   "source": [
    "# How to use Classification Metrics in Python"
   ]
  },
  {
   "cell_type": "code",
   "execution_count": 1,
   "metadata": {},
   "outputs": [
    {
     "name": "stdout",
     "output_type": "stream",
     "text": [
      "\n",
      "*******************How to use Classification Metrics in Python********************\n",
      "\n",
      "Accuracy:  0.9507751937984497\n",
      "Standard Deviation:  0.03968014020061886\n",
      "\n",
      "Logloss:  -1.9449783945305377\n",
      "Standard Deviation:  1.261563364205318\n",
      "\n",
      "AUC:  0.9512045745169315\n",
      "Standard Deviation:  0.030736881451303377\n",
      "\n",
      "tree.DecisionTreeClassifier(): \n",
      "\n",
      "              precision    recall  f1-score   support\n",
      "\n",
      "   malignant       0.85      0.90      0.88        52\n",
      "      benign       0.94      0.91      0.93        91\n",
      "\n",
      "   micro avg       0.91      0.91      0.91       143\n",
      "   macro avg       0.90      0.91      0.90       143\n",
      "weighted avg       0.91      0.91      0.91       143\n",
      "\n",
      "\n",
      "[[47  5]\n",
      " [ 8 83]]\n"
     ]
    }
   ],
   "source": [
    "## How to use Classification Metrics in Python\n",
    "## DataSet: skleran.load_breast_cancer()\n",
    "def Snippet_181(): \n",
    "    print()\n",
    "    print(format('How to use Classification Metrics in Python','*^82'))    \n",
    "    import warnings\n",
    "    warnings.filterwarnings(\"ignore\")\n",
    "\n",
    "    # load libraries\n",
    "    from sklearn import datasets\n",
    "    from sklearn import tree, model_selection, metrics    \n",
    "    from sklearn.model_selection import train_test_split\n",
    "    import matplotlib.pyplot as plt    \n",
    "    \n",
    "    plt.style.use('ggplot')\n",
    "\n",
    "    # load the datasets\n",
    "    seed = 42\n",
    "    dataset = datasets.load_breast_cancer()\n",
    "    X = dataset.data; y = dataset.target\n",
    "    X_train, X_test, y_train, y_test = train_test_split(X, y, test_size=0.25)\n",
    "    kfold = model_selection.KFold(n_splits=10, random_state=seed)    \n",
    "    # fit a tree.DecisionTreeClassifier() model to the data\n",
    "    model = tree.DecisionTreeClassifier()\n",
    "\n",
    "    # metrics -> Accuracy\n",
    "    scoring = 'accuracy'\n",
    "    results = model_selection.cross_val_score(model, X_train, y_train, cv=kfold, scoring=scoring)\n",
    "    print(); print(\"Accuracy: \", results.mean()); print(\"Standard Deviation: \", results.std()) \n",
    "\n",
    "    # metrics -> Logarithmic loss\n",
    "    scoring = 'neg_log_loss'\n",
    "    results = model_selection.cross_val_score(model, X_train, y_train, cv=kfold, scoring=scoring)\n",
    "    print(); print(\"Logloss: \", results.mean()); print(\"Standard Deviation: \", results.std()) \n",
    "\n",
    "    # metrics -> Area Under ROC Curve\n",
    "    scoring = 'roc_auc'\n",
    "    results = model_selection.cross_val_score(model, X_train, y_train, cv=kfold, scoring=scoring)\n",
    "    print(); print(\"AUC: \", results.mean()); print(\"Standard Deviation: \", results.std()) \n",
    "\n",
    "    # make predictions with fitted model\n",
    "    model.fit(X_train, y_train)\n",
    "    expected_y  = y_test\n",
    "    predicted_y = model.predict(X_test)\n",
    "    # summarize the fit of the model\n",
    "    print(); print('tree.DecisionTreeClassifier(): ')\n",
    "    print(); print(metrics.classification_report(expected_y, predicted_y, \n",
    "                   target_names=dataset.target_names))\n",
    "    print(); print(metrics.confusion_matrix(expected_y, predicted_y))\n",
    "Snippet_181()"
   ]
  }
 ],
 "metadata": {
  "kernelspec": {
   "display_name": "Python 3",
   "language": "python",
   "name": "python3"
  },
  "language_info": {
   "codemirror_mode": {
    "name": "ipython",
    "version": 3
   },
   "file_extension": ".py",
   "mimetype": "text/x-python",
   "name": "python",
   "nbconvert_exporter": "python",
   "pygments_lexer": "ipython3",
   "version": "3.6.8"
  }
 },
 "nbformat": 4,
 "nbformat_minor": 2
}
