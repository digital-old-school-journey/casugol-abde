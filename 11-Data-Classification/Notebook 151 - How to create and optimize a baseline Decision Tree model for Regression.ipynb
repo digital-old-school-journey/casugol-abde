{
 "cells": [
  {
   "cell_type": "markdown",
   "metadata": {},
   "source": [
    "# How to create and optimize a baseline Decision Tree model for Regression"
   ]
  },
  {
   "cell_type": "code",
   "execution_count": 2,
   "metadata": {},
   "outputs": [
    {
     "name": "stdout",
     "output_type": "stream",
     "text": [
      "\n",
      "***## How to create and optimize a baseline Decision Tree model for Regression****\n",
      "Best Number Of Components: 13\n",
      "\n",
      "DecisionTreeRegressor(criterion='friedman_mse', max_depth=4,\n",
      "           max_features=None, max_leaf_nodes=None,\n",
      "           min_impurity_decrease=0.0, min_impurity_split=None,\n",
      "           min_samples_leaf=1, min_samples_split=2,\n",
      "           min_weight_fraction_leaf=0.0, presort=False, random_state=None,\n",
      "           splitter='best')\n",
      "\n",
      "[0.1138055  0.29104455 0.2830292 ]\n",
      "\n",
      "0.22929308183032895\n",
      "\n",
      "0.08172758772175213\n"
     ]
    }
   ],
   "source": [
    "## How to create and optimize a baseline Decision Tree model for Regression\n",
    "def Snippet_151(): \n",
    "    print()\n",
    "    print(format('## How to create and optimize a baseline Decision Tree model for Regression','*^82'))    \n",
    "    \n",
    "    import warnings\n",
    "    warnings.filterwarnings(\"ignore\")\n",
    "    \n",
    "    # load libraries\n",
    "    from sklearn import decomposition, datasets\n",
    "    from sklearn import tree\n",
    "    from sklearn.pipeline import Pipeline\n",
    "    from sklearn.model_selection import GridSearchCV, cross_val_score\n",
    "    from sklearn.preprocessing import StandardScaler\n",
    "    \n",
    "    # Load the iris flower data\n",
    "    dataset = datasets.make_regression(n_samples=1000, n_features=20, n_informative=10, \n",
    "                n_targets=1, bias=0.0, effective_rank=None, tail_strength=0.5, noise=0.2, \n",
    "                shuffle=True, coef=False, random_state=None)\n",
    "    X = dataset[0]\n",
    "    y = dataset[1]\n",
    "    \n",
    "    # Create an scaler object\n",
    "    sc = StandardScaler()\n",
    "    \n",
    "    # Create a pca object\n",
    "    pca = decomposition.PCA()\n",
    "    \n",
    "    # Create a logistic regression object with an L2 penalty\n",
    "    dtreeReg = tree.DecisionTreeRegressor()\n",
    "    \n",
    "    # Create a pipeline of three steps. First, standardize the data.\n",
    "    # Second, tranform the data with PCA.\n",
    "    # Third, train a Decision Tree Classifier on the data.\n",
    "    pipe = Pipeline(steps=[('sc', sc), \n",
    "                           ('pca', pca), \n",
    "                           ('dtreeReg', dtreeReg)])\n",
    "    \n",
    "    # Create Parameter Space\n",
    "    # Create a list of a sequence of integers from 1 to 30 (the number of features in X + 1)\n",
    "    n_components = list(range(1,X.shape[1]+1,1))\n",
    "    \n",
    "    # Create lists of parameter for DecisionTreeRegressor\n",
    "    criterion = ['friedman_mse', 'mse']\n",
    "    max_depth = [4,6,8,10]\n",
    "    \n",
    "    # Create a dictionary of all the parameter options \n",
    "    # Note has you can access the parameters of steps of a pipeline by using '__’\n",
    "    parameters = dict(pca__n_components=n_components,\n",
    "                      dtreeReg__criterion=criterion,\n",
    "                      dtreeReg__max_depth=max_depth)\n",
    "    \n",
    "    # Conduct Parameter Optmization With Pipeline\n",
    "    # Create a grid search object\n",
    "    clf = GridSearchCV(pipe, parameters)\n",
    "    \n",
    "    # Fit the grid search\n",
    "    clf.fit(X, y)\n",
    "    \n",
    "    # View The Best Parameters\n",
    "    print('Best Number Of Components:', clf.best_estimator_.get_params()['pca__n_components'])\n",
    "    print(); print(clf.best_estimator_.get_params()['dtreeReg'])\n",
    "    \n",
    "    # Use Cross Validation To Evaluate Model\n",
    "    CV_Result = cross_val_score(clf, X, y, cv=3, n_jobs=-1, scoring='r2')\n",
    "    print(); print(CV_Result)\n",
    "    print(); print(CV_Result.mean())\n",
    "    print(); print(CV_Result.std())    \n",
    "    \n",
    "Snippet_151()"
   ]
  }
 ],
 "metadata": {
  "kernelspec": {
   "display_name": "Python 3",
   "language": "python",
   "name": "python3"
  },
  "language_info": {
   "codemirror_mode": {
    "name": "ipython",
    "version": 3
   },
   "file_extension": ".py",
   "mimetype": "text/x-python",
   "name": "python",
   "nbconvert_exporter": "python",
   "pygments_lexer": "ipython3",
   "version": "3.6.8"
  }
 },
 "nbformat": 4,
 "nbformat_minor": 2
}
