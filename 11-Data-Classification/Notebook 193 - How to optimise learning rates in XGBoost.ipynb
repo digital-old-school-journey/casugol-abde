{
 "cells": [
  {
   "cell_type": "markdown",
   "metadata": {},
   "source": [
    "# How to optimise learning rates in XGBoost"
   ]
  },
  {
   "cell_type": "code",
   "execution_count": 2,
   "metadata": {},
   "outputs": [
    {
     "name": "stdout",
     "output_type": "stream",
     "text": [
      "\n",
      "********************How to optimise learning rates in XGBoost*********************\n",
      "\n",
      "Best: -0.077694 using {'learning_rate': 0.3}\n",
      "-1.086580 (0.000540) with: {'learning_rate': 0.0001}\n",
      "-0.986720 (0.005130) with: {'learning_rate': 0.001}\n",
      "-0.443082 (0.032684) with: {'learning_rate': 0.01}\n",
      "-0.083225 (0.059937) with: {'learning_rate': 0.1}\n",
      "-0.080207 (0.059523) with: {'learning_rate': 0.2}\n",
      "-0.077694 (0.059774) with: {'learning_rate': 0.3}\n"
     ]
    }
   ],
   "source": [
    "def Snippet_193(): \n",
    "    print()\n",
    "    print(format('How to optimise learning rates in XGBoost','*^82'))    \n",
    "    \n",
    "    import warnings\n",
    "    warnings.filterwarnings(\"ignore\")\n",
    "    \n",
    "    # load libraries\n",
    "    from sklearn import datasets\n",
    "    from sklearn.model_selection import train_test_split\n",
    "    from xgboost import XGBClassifier\n",
    "    from sklearn.model_selection import GridSearchCV\n",
    "    from sklearn.model_selection import StratifiedKFold\n",
    "    import matplotlib\n",
    "    matplotlib.use('Agg')\n",
    "    from matplotlib import pyplot\n",
    "    \n",
    "    # load the iris datasets\n",
    "    dataset = datasets.load_wine()\n",
    "    X = dataset.data; y = dataset.target\n",
    "    X_train, X_test, y_train, y_test = train_test_split(X, y, test_size=0.25)\n",
    "\n",
    "    # grid search\n",
    "    model = XGBClassifier()\n",
    "    learning_rate = [0.0001, 0.001, 0.01, 0.1, 0.2, 0.3]\n",
    "    param_grid = dict(learning_rate=learning_rate)\n",
    "    kfold = StratifiedKFold(n_splits=10, shuffle=True, random_state=7)\n",
    "    grid_search = GridSearchCV(model, param_grid, scoring=\"neg_log_loss\", n_jobs=-1, cv=kfold)\n",
    "    grid_result = grid_search.fit(X, y)\n",
    "    \n",
    "    # summarize results\n",
    "    print(); print(\"Best: %f using %s\" % (grid_result.best_score_, grid_result.best_params_))\n",
    "    means = grid_result.cv_results_['mean_test_score']\n",
    "    stds = grid_result.cv_results_['std_test_score']\n",
    "    params = grid_result.cv_results_['params']\n",
    "    \n",
    "    for mean, stdev, param in zip(means, stds, params):\n",
    "\t     print(\"%f (%f) with: %r\" % (mean, stdev, param))\n",
    "    \n",
    "    # plot\n",
    "    pyplot.errorbar(learning_rate, means, yerr=stds)\n",
    "    pyplot.title(\"XGBoost learning_rate vs Log Loss\")\n",
    "    pyplot.xlabel('learning_rate')\n",
    "    pyplot.ylabel('Log Loss')\n",
    "    pyplot.savefig('learning_rate.png')\n",
    "    \n",
    "Snippet_193()"
   ]
  }
 ],
 "metadata": {
  "kernelspec": {
   "display_name": "Python 3",
   "language": "python",
   "name": "python3"
  },
  "language_info": {
   "codemirror_mode": {
    "name": "ipython",
    "version": 3
   },
   "file_extension": ".py",
   "mimetype": "text/x-python",
   "name": "python",
   "nbconvert_exporter": "python",
   "pygments_lexer": "ipython3",
   "version": "3.6.8"
  }
 },
 "nbformat": 4,
 "nbformat_minor": 2
}
