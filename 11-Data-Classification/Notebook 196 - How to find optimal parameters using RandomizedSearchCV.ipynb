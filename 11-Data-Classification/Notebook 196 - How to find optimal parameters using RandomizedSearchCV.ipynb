{
 "cells": [
  {
   "cell_type": "markdown",
   "metadata": {},
   "source": [
    "# How to find optimal parameters using RandomizedSearchCV"
   ]
  },
  {
   "cell_type": "code",
   "execution_count": 1,
   "metadata": {},
   "outputs": [
    {
     "name": "stdout",
     "output_type": "stream",
     "text": [
      "\n",
      "*****************How to find parameters using RandomizedSearchCV******************\n"
     ]
    },
    {
     "name": "stderr",
     "output_type": "stream",
     "text": [
      "/Users/nilimesh/anaconda3/lib/python3.6/site-packages/sklearn/model_selection/_search.py:841: DeprecationWarning: The default of the `iid` parameter will change from True to False in version 0.22 and will be removed in 0.24. This will change numeric results when test-set sizes are unequal.\n",
      "  DeprecationWarning)\n"
     ]
    },
    {
     "name": "stdout",
     "output_type": "stream",
     "text": [
      "\n",
      "========================================================\n",
      " Results from Random Search \n",
      "========================================================\n",
      "\n",
      " The best estimator across ALL searched params:\n",
      " GradientBoostingClassifier(criterion='friedman_mse', init=None,\n",
      "              learning_rate=0.02933763179021598, loss='deviance',\n",
      "              max_depth=6, max_features=None, max_leaf_nodes=None,\n",
      "              min_impurity_decrease=0.0, min_impurity_split=None,\n",
      "              min_samples_leaf=1, min_samples_split=2,\n",
      "              min_weight_fraction_leaf=0.0, n_estimators=973,\n",
      "              n_iter_no_change=None, presort='auto', random_state=None,\n",
      "              subsample=0.34643411696436155, tol=0.0001,\n",
      "              validation_fraction=0.1, verbose=0, warm_start=False)\n",
      "\n",
      " The best score across ALL searched params:\n",
      " 0.9473684210526315\n",
      "\n",
      " The best parameters across ALL searched params:\n",
      " {'learning_rate': 0.02933763179021598, 'max_depth': 6, 'n_estimators': 973, 'subsample': 0.34643411696436155}\n",
      "\n",
      " ========================================================\n"
     ]
    }
   ],
   "source": [
    "def Snippet_196(): \n",
    "    print()\n",
    "    print(format('How to find parameters using RandomizedSearchCV','*^82'))    \n",
    "    \n",
    "    import warnings\n",
    "    warnings.filterwarnings(\"ignore\")\n",
    "    \n",
    "    # load libraries\n",
    "    from sklearn import datasets\n",
    "    from sklearn.model_selection import train_test_split\n",
    "    from sklearn.model_selection import RandomizedSearchCV\n",
    "    from sklearn.ensemble import GradientBoostingClassifier\n",
    "    from scipy.stats import uniform as sp_randFloat\n",
    "    from scipy.stats import randint as sp_randInt    \n",
    "\n",
    "    # load the iris datasets\n",
    "    dataset = datasets.load_wine()\n",
    "    X = dataset.data; y = dataset.target\n",
    "    X_train, X_test, y_train, y_test = train_test_split(X, y, test_size=0.25)\n",
    "\n",
    "    model = GradientBoostingClassifier()\n",
    "    parameters = {'learning_rate': sp_randFloat(),\n",
    "                  'subsample'    : sp_randFloat(),\n",
    "                  'n_estimators' : sp_randInt(100, 1000),\n",
    "                  'max_depth'    : sp_randInt(4, 10) \n",
    "                 }\n",
    "    \n",
    "    randm = RandomizedSearchCV(estimator=model, param_distributions = parameters, \n",
    "                               cv = 2, n_iter = 10, n_jobs=-1)\n",
    "    randm.fit(X_train, y_train)\n",
    "\n",
    "    # Results from Random Search\n",
    "    print(\"\\n========================================================\")\n",
    "    print(\" Results from Random Search \" )\n",
    "    print(\"========================================================\")    \n",
    "    print(\"\\n The best estimator across ALL searched params:\\n\",\n",
    "          randm.best_estimator_)\n",
    "    print(\"\\n The best score across ALL searched params:\\n\",\n",
    "          randm.best_score_)\n",
    "    print(\"\\n The best parameters across ALL searched params:\\n\",\n",
    "          randm.best_params_)\n",
    "    print(\"\\n ========================================================\")\n",
    "    \n",
    "Snippet_196()"
   ]
  }
 ],
 "metadata": {
  "kernelspec": {
   "display_name": "Python 3",
   "language": "python",
   "name": "python3"
  },
  "language_info": {
   "codemirror_mode": {
    "name": "ipython",
    "version": 3
   },
   "file_extension": ".py",
   "mimetype": "text/x-python",
   "name": "python",
   "nbconvert_exporter": "python",
   "pygments_lexer": "ipython3",
   "version": "3.6.8"
  }
 },
 "nbformat": 4,
 "nbformat_minor": 2
}
