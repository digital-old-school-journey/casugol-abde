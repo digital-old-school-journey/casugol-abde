{
 "cells": [
  {
   "cell_type": "markdown",
   "metadata": {},
   "source": [
    "# How to use Adaboost Classifier and Regressor in Python"
   ]
  },
  {
   "cell_type": "code",
   "execution_count": 1,
   "metadata": {},
   "outputs": [
    {
     "name": "stdout",
     "output_type": "stream",
     "text": [
      "\n",
      "**************How to use Adaboost Classifier and Regressor in Python**************\n",
      "\n",
      "AdaBoostClassifier(algorithm='SAMME.R', base_estimator=None,\n",
      "          learning_rate=1.0, n_estimators=50, random_state=None)\n",
      "\n",
      "              precision    recall  f1-score   support\n",
      "\n",
      "           0       1.00      1.00      1.00        16\n",
      "           1       0.60      1.00      0.75         6\n",
      "           2       1.00      0.75      0.86        16\n",
      "\n",
      "   micro avg       0.89      0.89      0.89        38\n",
      "   macro avg       0.87      0.92      0.87        38\n",
      "weighted avg       0.94      0.89      0.90        38\n",
      "\n",
      "\n",
      "[[16  0  0]\n",
      " [ 0  6  0]\n",
      " [ 0  4 12]]\n",
      "\n",
      "AdaBoostRegressor(base_estimator=None, learning_rate=1.0, loss='linear',\n",
      "         n_estimators=50, random_state=None)\n",
      "\n",
      "0.8109522137559658\n",
      "\n",
      "0.034124635515305146\n"
     ]
    }
   ],
   "source": [
    "## How to use Adaboost Classifier and Regressor in Python\n",
    "def Snippet_162(): \n",
    "    print()\n",
    "    print(format('How to use Adaboost Classifier and Regressor in Python','*^82')) \n",
    "    \n",
    "    import warnings\n",
    "    warnings.filterwarnings(\"ignore\")\n",
    "    \n",
    "    # load libraries\n",
    "    from sklearn import datasets\n",
    "    from sklearn import metrics\n",
    "    from sklearn.ensemble import AdaBoostClassifier\n",
    "    from sklearn.ensemble import AdaBoostRegressor\n",
    "    from sklearn.model_selection import train_test_split\n",
    "    import matplotlib.pyplot as plt    \n",
    "    import seaborn as sns\n",
    "    \n",
    "    plt.style.use('ggplot')\n",
    "    \n",
    "    # load the iris datasets\n",
    "    dataset = datasets.load_iris()\n",
    "    X = dataset.data; y = dataset.target\n",
    "    X_train, X_test, y_train, y_test = train_test_split(X, y, test_size=0.25)\n",
    "    \n",
    "    # fit a CART model to the data\n",
    "    model = AdaBoostClassifier()\n",
    "    model.fit(X_train, y_train)\n",
    "    print(); print(model)\n",
    "    \n",
    "    # make predictions\n",
    "    expected_y  = y_test\n",
    "    predicted_y = model.predict(X_test)\n",
    "    \n",
    "    # summarize the fit of the model\n",
    "    print(); print(metrics.classification_report(expected_y, predicted_y))\n",
    "    print(); print(metrics.confusion_matrix(expected_y, predicted_y))\n",
    "\n",
    "    # load the boston datasets\n",
    "    dataset = datasets.load_boston()\n",
    "    X = dataset.data; y = dataset.target\n",
    "    X_train, X_test, y_train, y_test = train_test_split(X, y, test_size=0.25)    \n",
    "    \n",
    "    # fit a CART model to the data\n",
    "    model = AdaBoostRegressor()\n",
    "    model.fit(X_train, y_train)\n",
    "    print(); print(model)\n",
    "    \n",
    "    # make predictions\n",
    "    expected_y  = y_test\n",
    "    predicted_y = model.predict(X_test)\n",
    "    \n",
    "    # summarize the fit of the model\n",
    "    print(); print(metrics.r2_score(expected_y, predicted_y))\n",
    "    print(); print(metrics.mean_squared_log_error(expected_y, predicted_y))\n",
    "\n",
    "    # plot regression\n",
    "    plt.figure(figsize=(10,10))\n",
    "    sns.regplot(expected_y, predicted_y, fit_reg=True, scatter_kws={\"s\": 100})    \n",
    "    \n",
    "Snippet_162()"
   ]
  }
 ],
 "metadata": {
  "kernelspec": {
   "display_name": "Python 3",
   "language": "python",
   "name": "python3"
  },
  "language_info": {
   "codemirror_mode": {
    "name": "ipython",
    "version": 3
   },
   "file_extension": ".py",
   "mimetype": "text/x-python",
   "name": "python",
   "nbconvert_exporter": "python",
   "pygments_lexer": "ipython3",
   "version": "3.6.8"
  }
 },
 "nbformat": 4,
 "nbformat_minor": 2
}
