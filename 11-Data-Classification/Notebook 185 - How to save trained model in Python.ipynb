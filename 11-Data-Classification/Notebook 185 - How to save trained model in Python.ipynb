{
 "cells": [
  {
   "cell_type": "markdown",
   "metadata": {},
   "source": [
    "# How to save trained model in Python"
   ]
  },
  {
   "cell_type": "code",
   "execution_count": 1,
   "metadata": {},
   "outputs": [
    {
     "name": "stdout",
     "output_type": "stream",
     "text": [
      "\n",
      "***********************How to save trained model in Python************************\n",
      "\n",
      "0.916083916083916\n",
      "\n",
      "0.916083916083916\n"
     ]
    }
   ],
   "source": [
    "## How to save trained model in Python\n",
    "## DataSet: skleran.datasets.load_breast_cancer()\n",
    "def Snippet_185(): \n",
    "    print()\n",
    "    print(format('How to save trained model in Python','*^82'))    \n",
    "    import warnings\n",
    "    warnings.filterwarnings(\"ignore\")\n",
    "    # load libraries\n",
    "    from sklearn import model_selection, datasets\n",
    "    from sklearn.tree import DecisionTreeClassifier\n",
    "    from sklearn.externals import joblib    \n",
    "    import pickle\n",
    "    # load dataset\n",
    "    dataset = datasets.load_breast_cancer()\n",
    "    X = dataset.data; y = dataset.target\n",
    "    X_train, X_test, y_train, y_test = model_selection.train_test_split(X, y, test_size=0.25)\n",
    "    # Fit the model on 33%\n",
    "    model = DecisionTreeClassifier()\n",
    "    model.fit(X_train, y_train)\n",
    "\n",
    "    # save the model to disk using Pickle\n",
    "    filename = 'trained_model.pickle'\n",
    "    pickle.dump(model, open(filename, 'wb'))\n",
    "    # load the model from disk\n",
    "    loaded_model = pickle.load(open(filename, 'rb'))\n",
    "    result = loaded_model.score(X_test, y_test)\n",
    "    print(); print(result)\n",
    "\n",
    "    # save the model to disk using Joblib\n",
    "    filename = 'trained_model.joblib'\n",
    "    joblib.dump(model, filename)\n",
    "\n",
    "    # load the model from disk\n",
    "    loaded_model = joblib.load(filename)\n",
    "    result = loaded_model.score(X_test, y_test)\n",
    "    print(); print(result)\n",
    "Snippet_185()"
   ]
  }
 ],
 "metadata": {
  "kernelspec": {
   "display_name": "Python 3",
   "language": "python",
   "name": "python3"
  },
  "language_info": {
   "codemirror_mode": {
    "name": "ipython",
    "version": 3
   },
   "file_extension": ".py",
   "mimetype": "text/x-python",
   "name": "python",
   "nbconvert_exporter": "python",
   "pygments_lexer": "ipython3",
   "version": "3.6.8"
  }
 },
 "nbformat": 4,
 "nbformat_minor": 2
}
