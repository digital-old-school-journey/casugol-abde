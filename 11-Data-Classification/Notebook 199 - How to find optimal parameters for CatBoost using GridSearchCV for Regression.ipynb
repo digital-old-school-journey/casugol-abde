{
 "cells": [
  {
   "cell_type": "markdown",
   "metadata": {},
   "source": [
    "# How to find optimal parameters for CatBoost using GridSearchCV for Regression"
   ]
  },
  {
   "cell_type": "code",
   "execution_count": 1,
   "metadata": {},
   "outputs": [
    {
     "name": "stdout",
     "output_type": "stream",
     "text": [
      "\n",
      "**How to find optimal parameters for CatBoost using GridSearchCV for Regression***\n"
     ]
    },
    {
     "name": "stderr",
     "output_type": "stream",
     "text": [
      "/Users/nilimesh/anaconda3/lib/python3.6/site-packages/sklearn/model_selection/_search.py:841: DeprecationWarning: The default of the `iid` parameter will change from True to False in version 0.22 and will be removed in 0.24. This will change numeric results when test-set sizes are unequal.\n",
      "  DeprecationWarning)\n"
     ]
    },
    {
     "name": "stdout",
     "output_type": "stream",
     "text": [
      "0:\tlearn: 24.3387613\ttotal: 82.8ms\tremaining: 2.4s\n",
      "1:\tlearn: 24.1574633\ttotal: 109ms\tremaining: 1.53s\n",
      "2:\tlearn: 23.9656719\ttotal: 136ms\tremaining: 1.23s\n",
      "3:\tlearn: 23.7609700\ttotal: 137ms\tremaining: 894ms\n",
      "4:\tlearn: 23.5788095\ttotal: 164ms\tremaining: 820ms\n",
      "5:\tlearn: 23.3981448\ttotal: 194ms\tremaining: 776ms\n",
      "6:\tlearn: 23.2204106\ttotal: 221ms\tremaining: 725ms\n",
      "7:\tlearn: 23.0637082\ttotal: 248ms\tremaining: 683ms\n",
      "8:\tlearn: 22.8991486\ttotal: 275ms\tremaining: 642ms\n",
      "9:\tlearn: 22.7361343\ttotal: 304ms\tremaining: 609ms\n",
      "10:\tlearn: 22.5820524\ttotal: 332ms\tremaining: 573ms\n",
      "11:\tlearn: 22.4015054\ttotal: 339ms\tremaining: 509ms\n",
      "12:\tlearn: 22.2254804\ttotal: 365ms\tremaining: 478ms\n",
      "13:\tlearn: 22.0342073\ttotal: 367ms\tremaining: 419ms\n",
      "14:\tlearn: 21.8495471\ttotal: 368ms\tremaining: 368ms\n",
      "15:\tlearn: 21.6805878\ttotal: 380ms\tremaining: 333ms\n",
      "16:\tlearn: 21.5233731\ttotal: 407ms\tremaining: 311ms\n",
      "17:\tlearn: 21.3576118\ttotal: 420ms\tremaining: 280ms\n",
      "18:\tlearn: 21.1949842\ttotal: 445ms\tremaining: 258ms\n",
      "19:\tlearn: 21.0149778\ttotal: 446ms\tremaining: 223ms\n",
      "20:\tlearn: 20.8692226\ttotal: 473ms\tremaining: 203ms\n",
      "21:\tlearn: 20.7145938\ttotal: 500ms\tremaining: 182ms\n",
      "22:\tlearn: 20.5647041\ttotal: 531ms\tremaining: 162ms\n",
      "23:\tlearn: 20.4190385\ttotal: 559ms\tremaining: 140ms\n",
      "24:\tlearn: 20.2797164\ttotal: 586ms\tremaining: 117ms\n",
      "25:\tlearn: 20.1265513\ttotal: 594ms\tremaining: 91.4ms\n",
      "26:\tlearn: 19.9603994\ttotal: 620ms\tremaining: 68.9ms\n",
      "27:\tlearn: 19.8206477\ttotal: 647ms\tremaining: 46.2ms\n",
      "28:\tlearn: 19.6781954\ttotal: 674ms\tremaining: 23.2ms\n",
      "29:\tlearn: 19.5353669\ttotal: 701ms\tremaining: 0us\n",
      "\n",
      "========================================================\n",
      " Results from Grid Search \n",
      "========================================================\n",
      "\n",
      " The best estimator across ALL searched params:\n",
      " <catboost.core.CatBoostRegressor object at 0x1a2302af60>\n",
      "\n",
      " The best score across ALL searched params:\n",
      " 20.27497626782402\n",
      "\n",
      " The best parameters across ALL searched params:\n",
      " {'depth': 10, 'iterations': 30, 'learning_rate': 0.01}\n",
      "\n",
      " ========================================================\n"
     ]
    }
   ],
   "source": [
    "def Snippet_199(): \n",
    "    print()\n",
    "    print(format('How to find optimal parameters for CatBoost using GridSearchCV for Regression','*^82'))    \n",
    "    \n",
    "    import warnings\n",
    "    warnings.filterwarnings(\"ignore\")\n",
    "    \n",
    "    # load libraries\n",
    "    from sklearn import datasets\n",
    "    from sklearn.model_selection import train_test_split\n",
    "    from sklearn.model_selection import GridSearchCV\n",
    "    from catboost import CatBoostRegressor\n",
    "\n",
    "    # load the iris datasets\n",
    "    dataset = datasets.load_boston()\n",
    "    X = dataset.data; y = dataset.target\n",
    "    X_train, X_test, y_train, y_test = train_test_split(X, y, test_size=0.25)\n",
    "\n",
    "    model = CatBoostRegressor()\n",
    "    parameters = {'depth'         : [6,8,10],\n",
    "                  'learning_rate' : [0.01, 0.05, 0.1],\n",
    "                  'iterations'    : [30, 50, 100]\n",
    "                 }\n",
    "    grid = GridSearchCV(estimator=model, param_grid = parameters, cv = 2, n_jobs=-1)\n",
    "    grid.fit(X_train, y_train)    \n",
    "\n",
    "    # Results from Grid Search\n",
    "    print(\"\\n========================================================\")\n",
    "    print(\" Results from Grid Search \" )\n",
    "    print(\"========================================================\")    \n",
    "    print(\"\\n The best estimator across ALL searched params:\\n\",\n",
    "          grid.best_estimator_)\n",
    "    print(\"\\n The best score across ALL searched params:\\n\",\n",
    "          grid.best_score_)\n",
    "    print(\"\\n The best parameters across ALL searched params:\\n\",\n",
    "          grid.best_params_)\n",
    "    print(\"\\n ========================================================\")\n",
    "    \n",
    "Snippet_199()"
   ]
  }
 ],
 "metadata": {
  "kernelspec": {
   "display_name": "Python 3",
   "language": "python",
   "name": "python3"
  },
  "language_info": {
   "codemirror_mode": {
    "name": "ipython",
    "version": 3
   },
   "file_extension": ".py",
   "mimetype": "text/x-python",
   "name": "python",
   "nbconvert_exporter": "python",
   "pygments_lexer": "ipython3",
   "version": "3.6.8"
  }
 },
 "nbformat": 4,
 "nbformat_minor": 2
}
