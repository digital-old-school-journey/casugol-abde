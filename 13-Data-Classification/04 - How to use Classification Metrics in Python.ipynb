{
 "cells": [
  {
   "cell_type": "markdown",
   "metadata": {},
   "source": [
    "# How to use Classification Metrics in Python"
   ]
  },
  {
   "cell_type": "code",
   "execution_count": 3,
   "metadata": {},
   "outputs": [
    {
     "name": "stdout",
     "output_type": "stream",
     "text": [
      "\n",
      "*******************How to use Classification Metrics in Python********************\n"
     ]
    },
    {
     "ename": "KeyError",
     "evalue": "0",
     "output_type": "error",
     "traceback": [
      "\u001b[0;31m---------------------------------------------------------------------------\u001b[0m",
      "\u001b[0;31mKeyError\u001b[0m                                  Traceback (most recent call last)",
      "\u001b[0;32m<ipython-input-3-a9ed3fa1df41>\u001b[0m in \u001b[0;36m<module>\u001b[0;34m\u001b[0m\n\u001b[1;32m     51\u001b[0m                    target_names=dataset.target_names))\n\u001b[1;32m     52\u001b[0m     \u001b[0mprint\u001b[0m\u001b[0;34m(\u001b[0m\u001b[0;34m)\u001b[0m\u001b[0;34m;\u001b[0m \u001b[0mprint\u001b[0m\u001b[0;34m(\u001b[0m\u001b[0mmetrics\u001b[0m\u001b[0;34m.\u001b[0m\u001b[0mconfusion_matrix\u001b[0m\u001b[0;34m(\u001b[0m\u001b[0mexpected_y\u001b[0m\u001b[0;34m,\u001b[0m \u001b[0mpredicted_y\u001b[0m\u001b[0;34m)\u001b[0m\u001b[0;34m)\u001b[0m\u001b[0;34m\u001b[0m\u001b[0;34m\u001b[0m\u001b[0m\n\u001b[0;32m---> 53\u001b[0;31m \u001b[0mSnippet_181\u001b[0m\u001b[0;34m(\u001b[0m\u001b[0;34m)\u001b[0m\u001b[0;34m\u001b[0m\u001b[0;34m\u001b[0m\u001b[0m\n\u001b[0m",
      "\u001b[0;32m<ipython-input-3-a9ed3fa1df41>\u001b[0m in \u001b[0;36mSnippet_181\u001b[0;34m()\u001b[0m\n\u001b[1;32m     19\u001b[0m     \u001b[0mdataset\u001b[0m \u001b[0;34m=\u001b[0m \u001b[0mdatasets\u001b[0m\u001b[0;34m.\u001b[0m\u001b[0mload_breast_cancer\u001b[0m\u001b[0;34m(\u001b[0m\u001b[0;34m)\u001b[0m\u001b[0;34m\u001b[0m\u001b[0;34m\u001b[0m\u001b[0m\n\u001b[1;32m     20\u001b[0m \u001b[0;34m\u001b[0m\u001b[0m\n\u001b[0;32m---> 21\u001b[0;31m     \u001b[0mprint\u001b[0m\u001b[0;34m(\u001b[0m\u001b[0mdataset\u001b[0m\u001b[0;34m[\u001b[0m\u001b[0;36m0\u001b[0m\u001b[0;34m]\u001b[0m\u001b[0;34m)\u001b[0m\u001b[0;34m\u001b[0m\u001b[0;34m\u001b[0m\u001b[0m\n\u001b[0m\u001b[1;32m     22\u001b[0m \u001b[0;34m\u001b[0m\u001b[0m\n\u001b[1;32m     23\u001b[0m     \u001b[0mX\u001b[0m \u001b[0;34m=\u001b[0m \u001b[0mdataset\u001b[0m\u001b[0;34m.\u001b[0m\u001b[0mdata\u001b[0m\u001b[0;34m;\u001b[0m \u001b[0my\u001b[0m \u001b[0;34m=\u001b[0m \u001b[0mdataset\u001b[0m\u001b[0;34m.\u001b[0m\u001b[0mtarget\u001b[0m\u001b[0;34m\u001b[0m\u001b[0;34m\u001b[0m\u001b[0m\n",
      "\u001b[0;31mKeyError\u001b[0m: 0"
     ]
    }
   ],
   "source": [
    "## How to use Classification Metrics in Python\n",
    "## DataSet: skleran.load_breast_cancer()\n",
    "def Snippet_181(): \n",
    "    print()\n",
    "    print(format('How to use Classification Metrics in Python','*^82'))    \n",
    "    import warnings\n",
    "    warnings.filterwarnings(\"ignore\")\n",
    "\n",
    "    # load libraries\n",
    "    from sklearn import datasets\n",
    "    from sklearn import tree, model_selection, metrics    \n",
    "    from sklearn.model_selection import train_test_split\n",
    "    import matplotlib.pyplot as plt    \n",
    "    \n",
    "    plt.style.use('ggplot')\n",
    "\n",
    "    # load the datasets\n",
    "    seed = 42\n",
    "    dataset = datasets.load_breast_cancer()\n",
    "    \n",
    "    \n",
    "    X = dataset.data; y = dataset.target\n",
    "    X_train, X_test, y_train, y_test = train_test_split(X, y, test_size=0.25)\n",
    "    kfold = model_selection.KFold(n_splits=10, random_state=seed)    \n",
    "    # fit a tree.DecisionTreeClassifier() model to the data\n",
    "    model = tree.DecisionTreeClassifier()\n",
    "\n",
    "    # metrics -> Accuracy\n",
    "    scoring = 'accuracy'\n",
    "    results = model_selection.cross_val_score(model, X_train, y_train, cv=kfold, scoring=scoring)\n",
    "    print(); print(\"Accuracy: \", results.mean()); print(\"Standard Deviation: \", results.std()) \n",
    "\n",
    "    # metrics -> Logarithmic loss\n",
    "    scoring = 'neg_log_loss'\n",
    "    results = model_selection.cross_val_score(model, X_train, y_train, cv=kfold, scoring=scoring)\n",
    "    print(); print(\"Logloss: \", results.mean()); print(\"Standard Deviation: \", results.std()) \n",
    "\n",
    "    # metrics -> Area Under ROC Curve\n",
    "    scoring = 'roc_auc'\n",
    "    results = model_selection.cross_val_score(model, X_train, y_train, cv=kfold, scoring=scoring)\n",
    "    print(); print(\"AUC: \", results.mean()); print(\"Standard Deviation: \", results.std()) \n",
    "\n",
    "    # make predictions with fitted model\n",
    "    model.fit(X_train, y_train)\n",
    "    expected_y  = y_test\n",
    "    predicted_y = model.predict(X_test)\n",
    "    # summarize the fit of the model\n",
    "    print(); print('tree.DecisionTreeClassifier(): ')\n",
    "    print(); print(metrics.classification_report(expected_y, predicted_y, \n",
    "                   target_names=dataset.target_names))\n",
    "    print(); print(metrics.confusion_matrix(expected_y, predicted_y))\n",
    "Snippet_181()"
   ]
  },
  {
   "cell_type": "code",
   "execution_count": null,
   "metadata": {},
   "outputs": [],
   "source": []
  }
 ],
 "metadata": {
  "kernelspec": {
   "display_name": "Python 3",
   "language": "python",
   "name": "python3"
  },
  "language_info": {
   "codemirror_mode": {
    "name": "ipython",
    "version": 3
   },
   "file_extension": ".py",
   "mimetype": "text/x-python",
   "name": "python",
   "nbconvert_exporter": "python",
   "pygments_lexer": "ipython3",
   "version": "3.7.3"
  }
 },
 "nbformat": 4,
 "nbformat_minor": 2
}
