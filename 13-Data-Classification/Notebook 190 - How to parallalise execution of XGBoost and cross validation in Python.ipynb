{
 "cells": [
  {
   "cell_type": "markdown",
   "metadata": {},
   "source": [
    "# How to parallalise execution of XGBoost and cross validation in Python"
   ]
  },
  {
   "cell_type": "code",
   "execution_count": 1,
   "metadata": {},
   "outputs": [
    {
     "name": "stdout",
     "output_type": "stream",
     "text": [
      "\n",
      "******How to parallalise execution of XGBoost and cross validation in Python******\n",
      "Single Thread XGBoost, Parallel Thread CV: 3.205920\n",
      "Parallel Thread XGBoost, Single Thread CV: 0.322138\n",
      "Parallel Thread XGBoost and CV: 0.142706\n"
     ]
    }
   ],
   "source": [
    "## How to parallalise execution of XGBoost and cross validation in Python\n",
    "\n",
    "def Snippet_190(): \n",
    "    print()\n",
    "    print(format('How to parallalise execution of XGBoost and cross validation in Python','*^82'))    \n",
    "    \n",
    "    import warnings\n",
    "    warnings.filterwarnings(\"ignore\")\n",
    "    \n",
    "    # load libraries\n",
    "    import time\n",
    "    from sklearn import datasets\n",
    "    from sklearn.model_selection import train_test_split, cross_val_score\n",
    "    from xgboost import XGBClassifier\n",
    "    \n",
    "    # load the iris datasets\n",
    "    dataset = datasets.load_wine()\n",
    "    X = dataset.data; y = dataset.target\n",
    "    X_train, X_test, y_train, y_test = train_test_split(X, y, test_size=0.25)\n",
    "\n",
    "    # Single Thread XGBoost, Parallel Thread CV\n",
    "    start = time.time()\n",
    "    model = XGBClassifier(nthread=1)\n",
    "    results = cross_val_score(model, X, y, cv=10, scoring='neg_log_loss', n_jobs=-1)\n",
    "    elapsed = time.time() - start\n",
    "    print(\"Single Thread XGBoost, Parallel Thread CV: %f\" % (elapsed))\n",
    "    \n",
    "    # Parallel Thread XGBoost, Single Thread CV\n",
    "    start = time.time()\n",
    "    model = XGBClassifier(nthread=-1)\n",
    "    results = cross_val_score(model, X, y, cv=10, scoring='neg_log_loss', n_jobs=1)\n",
    "    elapsed = time.time() - start\n",
    "    print(\"Parallel Thread XGBoost, Single Thread CV: %f\" % (elapsed))\n",
    "    \n",
    "    # Parallel Thread XGBoost and CV\n",
    "    start = time.time()\n",
    "    model = XGBClassifier(nthread=-1)\n",
    "    results = cross_val_score(model, X, y, cv=10, scoring='neg_log_loss', n_jobs=-1)\n",
    "    elapsed = time.time() - start\n",
    "    print(\"Parallel Thread XGBoost and CV: %f\" % (elapsed))\n",
    "    \n",
    "Snippet_190()"
   ]
  }
 ],
 "metadata": {
  "kernelspec": {
   "display_name": "Python 3",
   "language": "python",
   "name": "python3"
  },
  "language_info": {
   "codemirror_mode": {
    "name": "ipython",
    "version": 3
   },
   "file_extension": ".py",
   "mimetype": "text/x-python",
   "name": "python",
   "nbconvert_exporter": "python",
   "pygments_lexer": "ipython3",
   "version": "3.6.8"
  }
 },
 "nbformat": 4,
 "nbformat_minor": 2
}
