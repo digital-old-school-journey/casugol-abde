{
 "cells": [
  {
   "cell_type": "markdown",
   "metadata": {},
   "source": [
    "# How to import a CSV file in Python"
   ]
  },
  {
   "cell_type": "code",
   "execution_count": 3,
   "metadata": {},
   "outputs": [
    {
     "name": "stdout",
     "output_type": "stream",
     "text": [
      "\n",
      "************************How to import a CSV file in Python************************\n",
      "(768, 9)\n",
      "(768, 9)\n",
      "(768, 9)\n"
     ]
    }
   ],
   "source": [
    "## How to import a CSV file in Python\n",
    "def Snippet_171(): \n",
    "    print()\n",
    "    print(format('How to import a CSV file in Python','*^82'))   \n",
    "    \n",
    "    import warnings\n",
    "    warnings.filterwarnings(\"ignore\")\n",
    "    \n",
    "    # load libraries\n",
    "    import csv\n",
    "    import numpy\n",
    "    import pandas    \n",
    "    \n",
    "    # Load CSV (using python)\n",
    "    filename = 'pima.indians.diabetes.data.csv'\n",
    "    raw_data = open(filename, 'rt')\n",
    "    reader = csv.reader(raw_data, delimiter=',', quoting=csv.QUOTE_NONE)\n",
    "    x = list(reader)\n",
    "    data = numpy.array(x).astype('float')\n",
    "\n",
    "    print(data.shape)\n",
    "    \n",
    "    # Load CSV (using numpy)\n",
    "    filename = 'pima.indians.diabetes.data.csv'\n",
    "    raw_data = open(filename, 'rt')\n",
    "    data = numpy.loadtxt(raw_data, delimiter=\",\")\n",
    "    print(data.shape)\n",
    "    \n",
    "    # Load CSV (using Pandas)\n",
    "    filename = 'pima.indians.diabetes.data.csv'\n",
    "    names = ['preg', 'plas', 'pres', 'skin', 'test', \n",
    "             'mass', 'pedi', 'age', 'class']\n",
    "    data = pandas.read_csv(filename, names=names)\n",
    "    print(data.shape)\n",
    "    \n",
    "Snippet_171()"
   ]
  },
  {
   "cell_type": "code",
   "execution_count": null,
   "metadata": {},
   "outputs": [],
   "source": []
  }
 ],
 "metadata": {
  "kernelspec": {
   "display_name": "Python 3",
   "language": "python",
   "name": "python3"
  },
  "language_info": {
   "codemirror_mode": {
    "name": "ipython",
    "version": 3
   },
   "file_extension": ".py",
   "mimetype": "text/x-python",
   "name": "python",
   "nbconvert_exporter": "python",
   "pygments_lexer": "ipython3",
   "version": "3.7.3"
  }
 },
 "nbformat": 4,
 "nbformat_minor": 2
}
