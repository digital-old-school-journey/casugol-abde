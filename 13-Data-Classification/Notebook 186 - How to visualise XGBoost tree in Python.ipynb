{
 "cells": [
  {
   "cell_type": "markdown",
   "metadata": {},
   "source": [
    "# How to visualise XGBoost tree in Python"
   ]
  },
  {
   "cell_type": "code",
   "execution_count": null,
   "metadata": {},
   "outputs": [],
   "source": [
    "## How to visualise XGBoost tree in Python\n",
    "## DataSet: skleran.datasets.load_breast_cancer()\n",
    "def Snippet_186(): \n",
    "    print()\n",
    "    print(format('Hoe to visualise XGBoost tree in Python','*^82'))    \n",
    "    import warnings\n",
    "    warnings.filterwarnings(\"ignore\")\n",
    "\n",
    "    # load libraries\n",
    "    from sklearn import datasets\n",
    "    from sklearn import metrics\n",
    "    from xgboost import XGBClassifier, plot_tree\n",
    "    from sklearn.model_selection import train_test_split\n",
    "    import matplotlib.pyplot as plt    \n",
    "    \n",
    "    plt.style.use('ggplot')\n",
    "\n",
    "    # load the iris datasets\n",
    "    dataset = datasets.load_wine()\n",
    "    X = dataset.data; y = dataset.target\n",
    "    X_train, X_test, y_train, y_test = train_test_split(X, y, test_size=0.25)\n",
    "    \n",
    "    # fit a ensemble.AdaBoostClassifier() model to the data\n",
    "    model = XGBClassifier()\n",
    "    model.fit(X_train, y_train)\n",
    "    print(); print(model)\n",
    "    # make predictions\n",
    "    expected_y  = y_test\n",
    "    predicted_y = model.predict(X_test)\n",
    "    # summarize the fit of the model\n",
    "    print(); print('XGBClassifier: ')\n",
    "    print(); print(metrics.classification_report(expected_y, predicted_y, \n",
    "                   target_names=dataset.target_names))\n",
    "    print(); print(metrics.confusion_matrix(expected_y, predicted_y))\n",
    "\n",
    "    plot_tree(model); plt.show()\n",
    "    plot_tree(model, num_trees=4); plt.show()\n",
    "    plot_tree(model, num_trees=0, rankdir='LR'); plt.show()\n",
    "Snippet_186()"
   ]
  }
 ],
 "metadata": {
  "kernelspec": {
   "display_name": "Python 3",
   "language": "python",
   "name": "python3"
  },
  "language_info": {
   "codemirror_mode": {
    "name": "ipython",
    "version": 3
   },
   "file_extension": ".py",
   "mimetype": "text/x-python",
   "name": "python",
   "nbconvert_exporter": "python",
   "pygments_lexer": "ipython3",
   "version": "3.6.8"
  }
 },
 "nbformat": 4,
 "nbformat_minor": 2
}
