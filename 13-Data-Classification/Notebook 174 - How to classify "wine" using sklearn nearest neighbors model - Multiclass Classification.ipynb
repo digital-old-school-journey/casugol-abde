{
 "cells": [
  {
   "cell_type": "markdown",
   "metadata": {},
   "source": [
    "# How to classify \"wine\" using sklearn nearest neighbors model - Multiclass Classification"
   ]
  },
  {
   "cell_type": "code",
   "execution_count": 2,
   "metadata": {},
   "outputs": [
    {
     "name": "stdout",
     "output_type": "stream",
     "text": [
      "\n",
      "How to classify \"wine\" using sklearn nearest neighbors model - Multiclass Classification\n",
      "\n",
      "KNeighborsClassifier(algorithm='auto', leaf_size=30, metric='minkowski',\n",
      "           metric_params=None, n_jobs=None, n_neighbors=5, p=2,\n",
      "           weights='uniform')\n",
      "\n",
      "neighbors.KNeighborsClassifier(): \n",
      "\n",
      "              precision    recall  f1-score   support\n",
      "\n",
      "     class_0       0.73      0.89      0.80         9\n",
      "     class_1       0.73      0.67      0.70        24\n",
      "     class_2       0.33      0.33      0.33        12\n",
      "\n",
      "   micro avg       0.62      0.62      0.62        45\n",
      "   macro avg       0.60      0.63      0.61        45\n",
      "weighted avg       0.62      0.62      0.62        45\n",
      "\n",
      "\n",
      "[[ 8  1  0]\n",
      " [ 0 16  8]\n",
      " [ 3  5  4]]\n"
     ]
    }
   ],
   "source": [
    "## How to classify \"wine\" using sklearn nearest neighbors model - Multiclass Classification\n",
    "## DataSet: skleran.datasets.load_wine()\n",
    "def Snippet_174(): \n",
    "    print()\n",
    "    print(format('How to classify \"wine\" using sklearn nearest neighbors model - Multiclass Classification','*^82'))    \n",
    "    import warnings\n",
    "    warnings.filterwarnings(\"ignore\")\n",
    "    # load libraries\n",
    "    from sklearn import datasets\n",
    "    from sklearn import metrics\n",
    "    from sklearn.model_selection import train_test_split\n",
    "    import matplotlib.pyplot as plt    \n",
    "    \n",
    "    plt.style.use('ggplot')\n",
    "\n",
    "    from sklearn import neighbors\n",
    "    # load the iris datasets\n",
    "    dataset = datasets.load_wine()\n",
    "    X = dataset.data; y = dataset.target\n",
    "    X_train, X_test, y_train, y_test = train_test_split(X, y, test_size=0.25)\n",
    "    \n",
    "    # fit a neighbors.KNeighborsClassifier() model to the data\n",
    "    model = neighbors.KNeighborsClassifier()\n",
    "    model.fit(X_train, y_train)\n",
    "    print(); print(model)\n",
    "    \n",
    "    # make predictions\n",
    "    expected_y  = y_test\n",
    "    predicted_y = model.predict(X_test)\n",
    "\n",
    "    # summarize the fit of the model\n",
    "    print(); print('neighbors.KNeighborsClassifier(): ')\n",
    "    print(); print(metrics.classification_report(expected_y, predicted_y, \n",
    "                   target_names=dataset.target_names))\n",
    "    print(); print(metrics.confusion_matrix(expected_y, predicted_y))\n",
    "\n",
    "Snippet_174()"
   ]
  }
 ],
 "metadata": {
  "kernelspec": {
   "display_name": "Python 3",
   "language": "python",
   "name": "python3"
  },
  "language_info": {
   "codemirror_mode": {
    "name": "ipython",
    "version": 3
   },
   "file_extension": ".py",
   "mimetype": "text/x-python",
   "name": "python",
   "nbconvert_exporter": "python",
   "pygments_lexer": "ipython3",
   "version": "3.6.8"
  }
 },
 "nbformat": 4,
 "nbformat_minor": 2
}
