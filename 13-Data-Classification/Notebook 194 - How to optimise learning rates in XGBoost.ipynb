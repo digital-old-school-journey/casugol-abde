{
 "cells": [
  {
   "cell_type": "markdown",
   "metadata": {},
   "source": [
    "# How to optimise multiple parameters in XGBoost"
   ]
  },
  {
   "cell_type": "code",
   "execution_count": 2,
   "metadata": {},
   "outputs": [
    {
     "name": "stdout",
     "output_type": "stream",
     "text": [
      "\n",
      "******************How to optimise multiple parameters in XGBoost******************\n",
      "\n",
      "Best: -0.077744 using {'learning_rate': 0.1, 'n_estimators': 200}\n",
      "-1.086580 (0.000540) with: {'learning_rate': 0.0001, 'n_estimators': 100}\n",
      "-1.074749 (0.001075) with: {'learning_rate': 0.0001, 'n_estimators': 200}\n",
      "-1.063108 (0.001606) with: {'learning_rate': 0.0001, 'n_estimators': 300}\n",
      "-1.051659 (0.002129) with: {'learning_rate': 0.0001, 'n_estimators': 400}\n",
      "-1.040399 (0.002644) with: {'learning_rate': 0.0001, 'n_estimators': 500}\n",
      "-0.986720 (0.005130) with: {'learning_rate': 0.001, 'n_estimators': 100}\n",
      "-0.891290 (0.009532) with: {'learning_rate': 0.001, 'n_estimators': 200}\n",
      "-0.808672 (0.013497) with: {'learning_rate': 0.001, 'n_estimators': 300}\n",
      "-0.736644 (0.016322) with: {'learning_rate': 0.001, 'n_estimators': 400}\n",
      "-0.673494 (0.018456) with: {'learning_rate': 0.001, 'n_estimators': 500}\n",
      "-0.443082 (0.032684) with: {'learning_rate': 0.01, 'n_estimators': 100}\n",
      "-0.236992 (0.048798) with: {'learning_rate': 0.01, 'n_estimators': 200}\n",
      "-0.159902 (0.052830) with: {'learning_rate': 0.01, 'n_estimators': 300}\n",
      "-0.125207 (0.057096) with: {'learning_rate': 0.01, 'n_estimators': 400}\n",
      "-0.108330 (0.059207) with: {'learning_rate': 0.01, 'n_estimators': 500}\n",
      "-0.083225 (0.059937) with: {'learning_rate': 0.1, 'n_estimators': 100}\n",
      "-0.077744 (0.057482) with: {'learning_rate': 0.1, 'n_estimators': 200}\n",
      "-0.077754 (0.057472) with: {'learning_rate': 0.1, 'n_estimators': 300}\n",
      "-0.077754 (0.057472) with: {'learning_rate': 0.1, 'n_estimators': 400}\n",
      "-0.077754 (0.057472) with: {'learning_rate': 0.1, 'n_estimators': 500}\n"
     ]
    }
   ],
   "source": [
    "def Snippet_194(): \n",
    "    print()\n",
    "    print(format('How to optimise multiple parameters in XGBoost','*^82'))    \n",
    "    \n",
    "    import warnings\n",
    "    warnings.filterwarnings(\"ignore\")\n",
    "    \n",
    "    # load libraries\n",
    "    from sklearn import datasets\n",
    "    from sklearn.model_selection import train_test_split\n",
    "    from xgboost import XGBClassifier\n",
    "    from sklearn.model_selection import GridSearchCV\n",
    "    from sklearn.model_selection import StratifiedKFold\n",
    "    import matplotlib\n",
    "    matplotlib.use('Agg')\n",
    "    from matplotlib import pyplot\n",
    "    pyplot.style.use('ggplot')      \n",
    "    import numpy\n",
    "    \n",
    "    # load the iris datasets\n",
    "    dataset = datasets.load_wine()\n",
    "    X = dataset.data; y = dataset.target\n",
    "    X_train, X_test, y_train, y_test = train_test_split(X, y, test_size=0.25)\n",
    "\n",
    "    # grid search\n",
    "    model = XGBClassifier()\n",
    "    n_estimators = [100, 200, 300, 400, 500]\n",
    "    learning_rate = [0.0001, 0.001, 0.01, 0.1]\n",
    "    param_grid = dict(learning_rate=learning_rate, n_estimators=n_estimators)\n",
    "    kfold = StratifiedKFold(n_splits=10, shuffle=True, random_state=7)\n",
    "    grid_search = GridSearchCV(model, param_grid, scoring=\"neg_log_loss\", n_jobs=-1, cv=kfold)\n",
    "    grid_result = grid_search.fit(X, y)\n",
    "    \n",
    "    # summarize results\n",
    "    print(); print(\"Best: %f using %s\" % (grid_result.best_score_, grid_result.best_params_))\n",
    "    means = grid_result.cv_results_['mean_test_score']\n",
    "    stds = grid_result.cv_results_['std_test_score']\n",
    "    params = grid_result.cv_results_['params']\n",
    "    \n",
    "    for mean, stdev, param in zip(means, stds, params):\n",
    "\t     print(\"%f (%f) with: %r\" % (mean, stdev, param))\n",
    "         # plot results\n",
    "    pyplot.subplots(figsize=(12,12))\n",
    "    scores = numpy.array(means).reshape(len(learning_rate), len(n_estimators))\n",
    "    \n",
    "    for i, value in enumerate(learning_rate):\n",
    "        pyplot.plot(n_estimators, scores[i], label='learning_rate: ' + str(value))\n",
    "    pyplot.legend()\n",
    "    pyplot.xlabel('n_estimators')\n",
    "    pyplot.ylabel('Log Loss')\n",
    "    pyplot.show()\n",
    "    pyplot.savefig('n_estimators_vs_learning_rate.png')  \n",
    "    \n",
    "Snippet_194()"
   ]
  }
 ],
 "metadata": {
  "kernelspec": {
   "display_name": "Python 3",
   "language": "python",
   "name": "python3"
  },
  "language_info": {
   "codemirror_mode": {
    "name": "ipython",
    "version": 3
   },
   "file_extension": ".py",
   "mimetype": "text/x-python",
   "name": "python",
   "nbconvert_exporter": "python",
   "pygments_lexer": "ipython3",
   "version": "3.6.8"
  }
 },
 "nbformat": 4,
 "nbformat_minor": 2
}
