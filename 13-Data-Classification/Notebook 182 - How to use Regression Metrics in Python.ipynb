{
 "cells": [
  {
   "cell_type": "markdown",
   "metadata": {},
   "source": [
    "# How to use Regression Metrics in Python"
   ]
  },
  {
   "cell_type": "code",
   "execution_count": 1,
   "metadata": {},
   "outputs": [
    {
     "name": "stdout",
     "output_type": "stream",
     "text": [
      "\n",
      "*********************How to use Regression Metrics in Python**********************\n",
      "\n",
      "Mean Absolute Error:  -3.0952560455192035\n",
      "Standard Deviation:  0.4539146116435922\n",
      "\n",
      "Mean Squared Error:  -21.0677652916074\n",
      "Standard Deviation:  9.255250927975112\n",
      "\n",
      "R squared val:  0.7561802285707946\n",
      "Standard Deviation:  0.1692887494698974\n"
     ]
    }
   ],
   "source": [
    "## How to use Regression Metrics in Python\n",
    "## DataSet: skleran.load_boston()\n",
    "def Snippet_182(): \n",
    "    print()\n",
    "    print(format('How to use Regression Metrics in Python','*^82'))    \n",
    "    import warnings\n",
    "    warnings.filterwarnings(\"ignore\")\n",
    "\n",
    "    # load libraries\n",
    "    from sklearn import datasets\n",
    "    from sklearn import tree, model_selection\n",
    "    from sklearn.model_selection import train_test_split\n",
    "    import matplotlib.pyplot as plt    \n",
    "    \n",
    "    plt.style.use('ggplot')\n",
    "\n",
    "    # load the iris datasets\n",
    "    seed = 42\n",
    "    dataset = datasets.load_boston()\n",
    "    X = dataset.data; y = dataset.target\n",
    "    X_train, X_test, y_train, y_test = train_test_split(X, y, test_size=0.25)\n",
    "    kfold = model_selection.KFold(n_splits=10, random_state=seed)    \n",
    "    # fit a tree.DecisionTreeClassifier() model to the data\n",
    "    model = tree.DecisionTreeRegressor()\n",
    "\n",
    "    # metrics -> Mean Absolute Error\n",
    "    scoring = 'neg_mean_absolute_error'\n",
    "    results = model_selection.cross_val_score(model, X_train, y_train, cv=kfold, scoring=scoring)\n",
    "    print(); print(\"Mean Absolute Error: \", results.mean()); print(\"Standard Deviation: \", results.std()) \n",
    "\n",
    "    # metrics -> Mean Squred Error\n",
    "    scoring = 'neg_mean_squared_error'\n",
    "    results = model_selection.cross_val_score(model, X_train, y_train, cv=kfold, scoring=scoring)\n",
    "    print(); print(\"Mean Squared Error: \", results.mean()); print(\"Standard Deviation: \", results.std()) \n",
    "\n",
    "    # metrics -> R squared\n",
    "    scoring = 'r2'\n",
    "    results = model_selection.cross_val_score(model, X_train, y_train, cv=kfold, scoring=scoring)\n",
    "    print(); print(\"R squared val: \", results.mean()); print(\"Standard Deviation: \", results.std()) \n",
    "Snippet_182()"
   ]
  }
 ],
 "metadata": {
  "kernelspec": {
   "display_name": "Python 3",
   "language": "python",
   "name": "python3"
  },
  "language_info": {
   "codemirror_mode": {
    "name": "ipython",
    "version": 3
   },
   "file_extension": ".py",
   "mimetype": "text/x-python",
   "name": "python",
   "nbconvert_exporter": "python",
   "pygments_lexer": "ipython3",
   "version": "3.6.8"
  }
 },
 "nbformat": 4,
 "nbformat_minor": 2
}
