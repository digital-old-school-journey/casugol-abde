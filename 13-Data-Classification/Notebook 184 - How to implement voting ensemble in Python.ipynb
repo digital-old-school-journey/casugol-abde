{
 "cells": [
  {
   "cell_type": "markdown",
   "metadata": {},
   "source": [
    "# How to implement voting ensemble in Python"
   ]
  },
  {
   "cell_type": "code",
   "execution_count": 1,
   "metadata": {},
   "outputs": [
    {
     "name": "stdout",
     "output_type": "stream",
     "text": [
      "\n",
      "********************How to implement voting ensemble in Python********************\n",
      "\n",
      "0.9462901439645626\n"
     ]
    }
   ],
   "source": [
    "## How to implement voting ensemble in Python\n",
    "## DataSet: skleran.datasets.load_breast_cancer()\n",
    "def Snippet_184(): \n",
    "    print()\n",
    "    print(format('How to implement voting ensemble in Python','*^82'))    \n",
    "    import warnings\n",
    "    warnings.filterwarnings(\"ignore\")\n",
    "    # load libraries\n",
    "    from sklearn import model_selection\n",
    "    from sklearn.linear_model import LogisticRegression\n",
    "    from sklearn.tree import DecisionTreeClassifier\n",
    "    from sklearn.svm import SVC\n",
    "    from sklearn.ensemble import VotingClassifier\n",
    "    from sklearn import datasets\n",
    "    from sklearn.model_selection import train_test_split\n",
    "    import matplotlib.pyplot as plt    \n",
    "    \n",
    "    plt.style.use('ggplot')\n",
    "\n",
    "    # load datasets\n",
    "    seed = 42\n",
    "    dataset = datasets.load_breast_cancer()\n",
    "    X = dataset.data; y = dataset.target\n",
    "    X_train, X_test, y_train, y_test = train_test_split(X, y, test_size=0.25)\n",
    "    kfold = model_selection.KFold(n_splits=10, random_state=seed)\n",
    "    \n",
    "    # create different models\n",
    "    estimators = []\n",
    "    model1 = LogisticRegression(); estimators.append(('logistic', model1))\n",
    "    model2 = DecisionTreeClassifier(); estimators.append(('cart', model2))\n",
    "    model3 = SVC(); estimators.append(('svm', model3))\n",
    "    \n",
    "    # create the ensemble model\n",
    "    ensemble = VotingClassifier(estimators)\n",
    "    results = model_selection.cross_val_score(ensemble, X_train, y_train, cv=kfold)\n",
    "    print(); print(results.mean())\n",
    "    \n",
    "Snippet_184()"
   ]
  }
 ],
 "metadata": {
  "kernelspec": {
   "display_name": "Python 3",
   "language": "python",
   "name": "python3"
  },
  "language_info": {
   "codemirror_mode": {
    "name": "ipython",
    "version": 3
   },
   "file_extension": ".py",
   "mimetype": "text/x-python",
   "name": "python",
   "nbconvert_exporter": "python",
   "pygments_lexer": "ipython3",
   "version": "3.6.8"
  }
 },
 "nbformat": 4,
 "nbformat_minor": 2
}
