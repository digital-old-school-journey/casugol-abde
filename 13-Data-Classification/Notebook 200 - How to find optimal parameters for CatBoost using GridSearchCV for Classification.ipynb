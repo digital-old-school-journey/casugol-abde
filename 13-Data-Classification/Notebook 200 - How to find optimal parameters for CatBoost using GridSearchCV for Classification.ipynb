{
 "cells": [
  {
   "cell_type": "markdown",
   "metadata": {},
   "source": [
    "# How to find optimal parameters for CatBoost using GridSearchCV for Classification"
   ]
  },
  {
   "cell_type": "code",
   "execution_count": 1,
   "metadata": {},
   "outputs": [
    {
     "name": "stdout",
     "output_type": "stream",
     "text": [
      "\n",
      "How to find optimal parameters for CatBoost using GridSearchCV for Classification*\n"
     ]
    },
    {
     "name": "stderr",
     "output_type": "stream",
     "text": [
      "/Users/nilimesh/anaconda3/lib/python3.6/site-packages/sklearn/model_selection/_search.py:841: DeprecationWarning: The default of the `iid` parameter will change from True to False in version 0.22 and will be removed in 0.24. This will change numeric results when test-set sizes are unequal.\n",
      "  DeprecationWarning)\n"
     ]
    },
    {
     "name": "stdout",
     "output_type": "stream",
     "text": [
      "0:\tlearn: 0.1708323\ttotal: 62.3ms\tremaining: 2.87s\n",
      "1:\tlearn: 0.0741225\ttotal: 66.2ms\tremaining: 1.49s\n",
      "2:\tlearn: 0.0413385\ttotal: 69.6ms\tremaining: 1.02s\n",
      "3:\tlearn: 0.0349551\ttotal: 77.9ms\tremaining: 837ms\n",
      "4:\tlearn: 0.0172439\ttotal: 83.3ms\tremaining: 700ms\n",
      "5:\tlearn: 0.0143331\ttotal: 93.8ms\tremaining: 641ms\n",
      "6:\tlearn: 0.0136467\ttotal: 97.5ms\tremaining: 557ms\n",
      "7:\tlearn: 0.0104568\ttotal: 101ms\tremaining: 493ms\n",
      "8:\tlearn: 0.0084645\ttotal: 107ms\tremaining: 452ms\n",
      "9:\tlearn: 0.0069334\ttotal: 113ms\tremaining: 418ms\n",
      "10:\tlearn: 0.0055324\ttotal: 116ms\tremaining: 381ms\n",
      "11:\tlearn: 0.0049073\ttotal: 121ms\tremaining: 352ms\n",
      "12:\tlearn: 0.0043357\ttotal: 129ms\tremaining: 337ms\n",
      "13:\tlearn: 0.0037293\ttotal: 132ms\tremaining: 311ms\n",
      "14:\tlearn: 0.0034793\ttotal: 136ms\tremaining: 290ms\n",
      "15:\tlearn: 0.0031629\ttotal: 144ms\tremaining: 279ms\n",
      "16:\tlearn: 0.0030079\ttotal: 147ms\tremaining: 260ms\n",
      "17:\tlearn: 0.0027360\ttotal: 151ms\tremaining: 243ms\n",
      "18:\tlearn: 0.0026357\ttotal: 157ms\tremaining: 231ms\n",
      "19:\tlearn: 0.0024981\ttotal: 161ms\tremaining: 217ms\n",
      "20:\tlearn: 0.0023519\ttotal: 164ms\tremaining: 203ms\n",
      "21:\tlearn: 0.0022145\ttotal: 168ms\tremaining: 191ms\n",
      "22:\tlearn: 0.0020650\ttotal: 190ms\tremaining: 198ms\n",
      "23:\tlearn: 0.0020040\ttotal: 203ms\tremaining: 194ms\n",
      "24:\tlearn: 0.0019376\ttotal: 214ms\tremaining: 188ms\n",
      "25:\tlearn: 0.0018634\ttotal: 218ms\tremaining: 176ms\n",
      "26:\tlearn: 0.0017796\ttotal: 228ms\tremaining: 169ms\n",
      "27:\tlearn: 0.0017148\ttotal: 232ms\tremaining: 157ms\n",
      "28:\tlearn: 0.0016426\ttotal: 236ms\tremaining: 146ms\n",
      "29:\tlearn: 0.0016027\ttotal: 239ms\tremaining: 136ms\n",
      "30:\tlearn: 0.0015376\ttotal: 242ms\tremaining: 125ms\n",
      "31:\tlearn: 0.0015050\ttotal: 246ms\tremaining: 115ms\n",
      "32:\tlearn: 0.0014783\ttotal: 249ms\tremaining: 106ms\n",
      "33:\tlearn: 0.0014207\ttotal: 253ms\tremaining: 96.8ms\n",
      "34:\tlearn: 0.0013793\ttotal: 257ms\tremaining: 88ms\n",
      "35:\tlearn: 0.0013399\ttotal: 268ms\tremaining: 81.8ms\n",
      "36:\tlearn: 0.0013060\ttotal: 280ms\tremaining: 75.6ms\n",
      "37:\tlearn: 0.0012657\ttotal: 290ms\tremaining: 68.7ms\n",
      "38:\tlearn: 0.0012342\ttotal: 300ms\tremaining: 61.5ms\n",
      "39:\tlearn: 0.0012019\ttotal: 305ms\tremaining: 53.4ms\n",
      "40:\tlearn: 0.0011690\ttotal: 309ms\tremaining: 45.2ms\n",
      "41:\tlearn: 0.0011382\ttotal: 312ms\tremaining: 37.1ms\n",
      "42:\tlearn: 0.0011222\ttotal: 315ms\tremaining: 29.3ms\n",
      "43:\tlearn: 0.0011005\ttotal: 324ms\tremaining: 22.1ms\n",
      "44:\tlearn: 0.0010792\ttotal: 334ms\tremaining: 14.8ms\n",
      "45:\tlearn: 0.0010511\ttotal: 338ms\tremaining: 7.34ms\n",
      "46:\tlearn: 0.0010211\ttotal: 341ms\tremaining: 0us\n",
      "\n",
      "========================================================\n",
      " Results from Random Search \n",
      "========================================================\n",
      "\n",
      " The best estimator across ALL searched params:\n",
      " <catboost.core.CatBoostClassifier object at 0x1a19f2b2e8>\n",
      "\n",
      " The best score across ALL searched params:\n",
      " 0.6766917293233082\n",
      "\n",
      " The best parameters across ALL searched params:\n",
      " {'depth': 5, 'iterations': 47, 'learning_rate': 0.6312277198025861}\n",
      "\n",
      " ========================================================\n"
     ]
    }
   ],
   "source": [
    "def Snippet_200(): \n",
    "    print()\n",
    "    print(format('How to find optimal parameters for CatBoost using GridSearchCV for Classification','*^82'))   \n",
    "    \n",
    "    import warnings\n",
    "    warnings.filterwarnings(\"ignore\")\n",
    "    \n",
    "    # load libraries\n",
    "    from sklearn import datasets\n",
    "    from sklearn.model_selection import train_test_split\n",
    "    from sklearn.model_selection import RandomizedSearchCV\n",
    "    from scipy.stats import uniform as sp_randFloat\n",
    "    from scipy.stats import randint as sp_randInt    \n",
    "    from catboost import CatBoostClassifier\n",
    "\n",
    "    # load the iris datasets\n",
    "    dataset = datasets.load_wine()\n",
    "    X = dataset.data; y = dataset.target\n",
    "    X_train, X_test, y_train, y_test = train_test_split(X, y, test_size=0.25)\n",
    "\n",
    "    model = CatBoostClassifier()\n",
    "    parameters = {'depth'         : sp_randInt(4, 10),\n",
    "                  'learning_rate' : sp_randFloat(),\n",
    "                  'iterations'    : sp_randInt(10, 100)\n",
    "                 }\n",
    "    \n",
    "    randm = RandomizedSearchCV(estimator=model, param_distributions = parameters, \n",
    "                               cv = 2, n_iter = 10, n_jobs=-1)\n",
    "    randm.fit(X_train, y_train)\n",
    "\n",
    "    # Results from Random Search\n",
    "    print(\"\\n========================================================\")\n",
    "    print(\" Results from Random Search \" )\n",
    "    print(\"========================================================\")    \n",
    "    print(\"\\n The best estimator across ALL searched params:\\n\",\n",
    "          randm.best_estimator_)\n",
    "    print(\"\\n The best score across ALL searched params:\\n\",\n",
    "          randm.best_score_)\n",
    "    print(\"\\n The best parameters across ALL searched params:\\n\",\n",
    "          randm.best_params_)\n",
    "    print(\"\\n ========================================================\")\n",
    "    \n",
    "Snippet_200()"
   ]
  }
 ],
 "metadata": {
  "kernelspec": {
   "display_name": "Python 3",
   "language": "python",
   "name": "python3"
  },
  "language_info": {
   "codemirror_mode": {
    "name": "ipython",
    "version": 3
   },
   "file_extension": ".py",
   "mimetype": "text/x-python",
   "name": "python",
   "nbconvert_exporter": "python",
   "pygments_lexer": "ipython3",
   "version": "3.6.8"
  }
 },
 "nbformat": 4,
 "nbformat_minor": 2
}
